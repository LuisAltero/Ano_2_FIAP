{
  "cells": [
    {
      "cell_type": "markdown",
      "metadata": {
        "id": "puSJI7VDzAc5"
      },
      "source": [
        "- Luis Henrique Caldas Altero – RM88670\n",
        "- Pedro Guilherme Polloni Barreto - RM 88964\n",
        "\n"
      ]
    },
    {
      "cell_type": "code",
      "execution_count": 1,
      "metadata": {
        "id": "kCPBTL0pIlW9"
      },
      "outputs": [],
      "source": [
        "import pandas as pd\n",
        "import numpy as np\n",
        "from sklearn.linear_model import LinearRegression\n",
        "from statsmodels.api import OLS\n",
        "from sklearn.metrics import accuracy_score\n",
        "from sklearn.metrics import precision_score\n",
        "from sklearn.metrics import recall_score"
      ]
    },
    {
      "cell_type": "code",
      "execution_count": 2,
      "metadata": {
        "id": "I7kW1QkuIuB4"
      },
      "outputs": [],
      "source": [
        "# Fizemos o carregamento do dataset\n",
        "df = pd.read_csv('venda.csv')"
      ]
    },
    {
      "cell_type": "code",
      "execution_count": 3,
      "metadata": {
        "colab": {
          "base_uri": "https://localhost:8080/",
          "height": 206
        },
        "id": "DgZaxI6GWY2m",
        "outputId": "6b427467-65ba-4341-94ef-686192996f76"
      },
      "outputs": [
        {
          "data": {
            "text/html": [
              "<div>\n",
              "<style scoped>\n",
              "    .dataframe tbody tr th:only-of-type {\n",
              "        vertical-align: middle;\n",
              "    }\n",
              "\n",
              "    .dataframe tbody tr th {\n",
              "        vertical-align: top;\n",
              "    }\n",
              "\n",
              "    .dataframe thead th {\n",
              "        text-align: right;\n",
              "    }\n",
              "</style>\n",
              "<table border=\"1\" class=\"dataframe\">\n",
              "  <thead>\n",
              "    <tr style=\"text-align: right;\">\n",
              "      <th></th>\n",
              "      <th>Unnamed: 0</th>\n",
              "      <th>X</th>\n",
              "      <th>date</th>\n",
              "      <th>mes</th>\n",
              "      <th>weekday</th>\n",
              "      <th>margem</th>\n",
              "      <th>venda</th>\n",
              "      <th>desconto</th>\n",
              "      <th>outdesc</th>\n",
              "      <th>outmg</th>\n",
              "    </tr>\n",
              "  </thead>\n",
              "  <tbody>\n",
              "    <tr>\n",
              "      <th>0</th>\n",
              "      <td>1</td>\n",
              "      <td>1</td>\n",
              "      <td>20140801</td>\n",
              "      <td>agosto</td>\n",
              "      <td>sexta-feira</td>\n",
              "      <td>0.406111</td>\n",
              "      <td>110042.460</td>\n",
              "      <td>9190.907534</td>\n",
              "      <td>0</td>\n",
              "      <td>0</td>\n",
              "    </tr>\n",
              "    <tr>\n",
              "      <th>1</th>\n",
              "      <td>2</td>\n",
              "      <td>2</td>\n",
              "      <td>20140802</td>\n",
              "      <td>agosto</td>\n",
              "      <td>sabado</td>\n",
              "      <td>0.416022</td>\n",
              "      <td>58377.320</td>\n",
              "      <td>5713.043012</td>\n",
              "      <td>0</td>\n",
              "      <td>0</td>\n",
              "    </tr>\n",
              "    <tr>\n",
              "      <th>2</th>\n",
              "      <td>3</td>\n",
              "      <td>3</td>\n",
              "      <td>20140803</td>\n",
              "      <td>agosto</td>\n",
              "      <td>domingo</td>\n",
              "      <td>0.431993</td>\n",
              "      <td>64635.390</td>\n",
              "      <td>8621.708915</td>\n",
              "      <td>0</td>\n",
              "      <td>0</td>\n",
              "    </tr>\n",
              "    <tr>\n",
              "      <th>3</th>\n",
              "      <td>4</td>\n",
              "      <td>4</td>\n",
              "      <td>20140804</td>\n",
              "      <td>agosto</td>\n",
              "      <td>segunda-feira</td>\n",
              "      <td>0.409216</td>\n",
              "      <td>140417.321</td>\n",
              "      <td>18312.965640</td>\n",
              "      <td>0</td>\n",
              "      <td>0</td>\n",
              "    </tr>\n",
              "    <tr>\n",
              "      <th>4</th>\n",
              "      <td>5</td>\n",
              "      <td>5</td>\n",
              "      <td>20140805</td>\n",
              "      <td>agosto</td>\n",
              "      <td>terca-feira</td>\n",
              "      <td>0.449648</td>\n",
              "      <td>149700.286</td>\n",
              "      <td>19942.741300</td>\n",
              "      <td>0</td>\n",
              "      <td>0</td>\n",
              "    </tr>\n",
              "  </tbody>\n",
              "</table>\n",
              "</div>"
            ],
            "text/plain": [
              "   Unnamed: 0  X      date     mes        weekday    margem       venda  \\\n",
              "0           1  1  20140801  agosto    sexta-feira  0.406111  110042.460   \n",
              "1           2  2  20140802  agosto         sabado  0.416022   58377.320   \n",
              "2           3  3  20140803  agosto        domingo  0.431993   64635.390   \n",
              "3           4  4  20140804  agosto  segunda-feira  0.409216  140417.321   \n",
              "4           5  5  20140805  agosto    terca-feira  0.449648  149700.286   \n",
              "\n",
              "       desconto  outdesc  outmg  \n",
              "0   9190.907534        0      0  \n",
              "1   5713.043012        0      0  \n",
              "2   8621.708915        0      0  \n",
              "3  18312.965640        0      0  \n",
              "4  19942.741300        0      0  "
            ]
          },
          "execution_count": 3,
          "metadata": {},
          "output_type": "execute_result"
        }
      ],
      "source": [
        "# Printamos as primeiras linhas para estudar o dataset\n",
        "df.head()"
      ]
    },
    {
      "cell_type": "code",
      "execution_count": 4,
      "metadata": {
        "id": "y4WOhk7MWCMY"
      },
      "outputs": [],
      "source": [
        "# Criamos uma função para verificarmos os valores NaN no dataset\n",
        "def valores_nan(df):\n",
        "  valores_nan = []\n",
        "  for coluna in df.columns:\n",
        "    contagem_nan = df.loc[pd.isna(df[coluna]), coluna].shape[0]\n",
        "    valores_nan.append(contagem_nan)\n",
        "  return valores_nan"
      ]
    },
    {
      "cell_type": "code",
      "execution_count": 5,
      "metadata": {
        "colab": {
          "base_uri": "https://localhost:8080/"
        },
        "id": "FN_40aDmKtlo",
        "outputId": "fbb071c0-d7ac-421e-84c5-cdfd82ab9f9b"
      },
      "outputs": [
        {
          "data": {
            "text/plain": [
              "[0, 0, 0, 0, 0, 0, 31, 0, 0, 0]"
            ]
          },
          "execution_count": 5,
          "metadata": {},
          "output_type": "execute_result"
        }
      ],
      "source": [
        "# Verificamos que a coluna Target possui 31 valores nulos\n",
        "valores_nan(df)"
      ]
    },
    {
      "cell_type": "code",
      "execution_count": 6,
      "metadata": {
        "id": "Hk7fbtHAKtpU"
      },
      "outputs": [],
      "source": [
        "# Optamos por deletar os valores nulos por se tratar da coluna Target \n",
        "df = df[ ~pd.isna(df.venda)]"
      ]
    },
    {
      "cell_type": "code",
      "execution_count": 7,
      "metadata": {
        "colab": {
          "base_uri": "https://localhost:8080/"
        },
        "id": "qGJ-XWIyKtsX",
        "outputId": "0a206a26-a122-4bda-b40b-827f81a37ef3"
      },
      "outputs": [
        {
          "data": {
            "text/plain": [
              "[0, 0, 0, 0, 0, 0, 0, 0, 0, 0]"
            ]
          },
          "execution_count": 7,
          "metadata": {},
          "output_type": "execute_result"
        }
      ],
      "source": [
        "# Executamos a função novamente para verificar se os valores realmente foram dropados\n",
        "valores_nan(df)"
      ]
    },
    {
      "cell_type": "code",
      "execution_count": 8,
      "metadata": {
        "id": "c_p8mDYgKtv0"
      },
      "outputs": [],
      "source": [
        "# Deletamos as colunas 0 e X\n",
        "del df['Unnamed: 0']\n",
        "del df['X']"
      ]
    },
    {
      "cell_type": "code",
      "execution_count": 9,
      "metadata": {
        "id": "rbOuNeQjXOfs"
      },
      "outputs": [],
      "source": [
        "# Função que transforma dados categóricos em dummies de acordo com o tipo de dado\n",
        "def create_dummies(dataframe):\n",
        "  column_type = dataframe.dtypes\n",
        "  num = 0\n",
        "  for column in dataframe.columns:\n",
        "    if str(column_type[num]) == 'object':\n",
        "      df_dummies = pd.get_dummies(dataframe[[column]])\n",
        "      for values in df_dummies.columns:\n",
        "        dataframe[values] = df_dummies[values]\n",
        "      del dataframe[column]\n",
        "      num += 1\n",
        "    else:\n",
        "      num += 1\n",
        "  return dataframe"
      ]
    },
    {
      "cell_type": "code",
      "execution_count": 10,
      "metadata": {
        "colab": {
          "base_uri": "https://localhost:8080/",
          "height": 505
        },
        "id": "hBGtmijPXOq5",
        "outputId": "ef8f5df8-27e2-4b98-9f14-a421f96f0e17"
      },
      "outputs": [
        {
          "data": {
            "text/html": [
              "<div>\n",
              "<style scoped>\n",
              "    .dataframe tbody tr th:only-of-type {\n",
              "        vertical-align: middle;\n",
              "    }\n",
              "\n",
              "    .dataframe tbody tr th {\n",
              "        vertical-align: top;\n",
              "    }\n",
              "\n",
              "    .dataframe thead th {\n",
              "        text-align: right;\n",
              "    }\n",
              "</style>\n",
              "<table border=\"1\" class=\"dataframe\">\n",
              "  <thead>\n",
              "    <tr style=\"text-align: right;\">\n",
              "      <th></th>\n",
              "      <th>date</th>\n",
              "      <th>margem</th>\n",
              "      <th>venda</th>\n",
              "      <th>desconto</th>\n",
              "      <th>outdesc</th>\n",
              "      <th>outmg</th>\n",
              "      <th>mes_abril</th>\n",
              "      <th>mes_agosto</th>\n",
              "      <th>mes_dezembro</th>\n",
              "      <th>mes_fevereiro</th>\n",
              "      <th>...</th>\n",
              "      <th>mes_novembro</th>\n",
              "      <th>mes_outubro</th>\n",
              "      <th>mes_setembro</th>\n",
              "      <th>weekday_domingo</th>\n",
              "      <th>weekday_quarta-feira</th>\n",
              "      <th>weekday_quinta-feira</th>\n",
              "      <th>weekday_sabado</th>\n",
              "      <th>weekday_segunda-feira</th>\n",
              "      <th>weekday_sexta-feira</th>\n",
              "      <th>weekday_terca-feira</th>\n",
              "    </tr>\n",
              "  </thead>\n",
              "  <tbody>\n",
              "    <tr>\n",
              "      <th>0</th>\n",
              "      <td>20140801</td>\n",
              "      <td>0.406111</td>\n",
              "      <td>110042.460</td>\n",
              "      <td>9190.907534</td>\n",
              "      <td>0</td>\n",
              "      <td>0</td>\n",
              "      <td>0</td>\n",
              "      <td>1</td>\n",
              "      <td>0</td>\n",
              "      <td>0</td>\n",
              "      <td>...</td>\n",
              "      <td>0</td>\n",
              "      <td>0</td>\n",
              "      <td>0</td>\n",
              "      <td>0</td>\n",
              "      <td>0</td>\n",
              "      <td>0</td>\n",
              "      <td>0</td>\n",
              "      <td>0</td>\n",
              "      <td>1</td>\n",
              "      <td>0</td>\n",
              "    </tr>\n",
              "    <tr>\n",
              "      <th>1</th>\n",
              "      <td>20140802</td>\n",
              "      <td>0.416022</td>\n",
              "      <td>58377.320</td>\n",
              "      <td>5713.043012</td>\n",
              "      <td>0</td>\n",
              "      <td>0</td>\n",
              "      <td>0</td>\n",
              "      <td>1</td>\n",
              "      <td>0</td>\n",
              "      <td>0</td>\n",
              "      <td>...</td>\n",
              "      <td>0</td>\n",
              "      <td>0</td>\n",
              "      <td>0</td>\n",
              "      <td>0</td>\n",
              "      <td>0</td>\n",
              "      <td>0</td>\n",
              "      <td>1</td>\n",
              "      <td>0</td>\n",
              "      <td>0</td>\n",
              "      <td>0</td>\n",
              "    </tr>\n",
              "    <tr>\n",
              "      <th>2</th>\n",
              "      <td>20140803</td>\n",
              "      <td>0.431993</td>\n",
              "      <td>64635.390</td>\n",
              "      <td>8621.708915</td>\n",
              "      <td>0</td>\n",
              "      <td>0</td>\n",
              "      <td>0</td>\n",
              "      <td>1</td>\n",
              "      <td>0</td>\n",
              "      <td>0</td>\n",
              "      <td>...</td>\n",
              "      <td>0</td>\n",
              "      <td>0</td>\n",
              "      <td>0</td>\n",
              "      <td>1</td>\n",
              "      <td>0</td>\n",
              "      <td>0</td>\n",
              "      <td>0</td>\n",
              "      <td>0</td>\n",
              "      <td>0</td>\n",
              "      <td>0</td>\n",
              "    </tr>\n",
              "    <tr>\n",
              "      <th>3</th>\n",
              "      <td>20140804</td>\n",
              "      <td>0.409216</td>\n",
              "      <td>140417.321</td>\n",
              "      <td>18312.965640</td>\n",
              "      <td>0</td>\n",
              "      <td>0</td>\n",
              "      <td>0</td>\n",
              "      <td>1</td>\n",
              "      <td>0</td>\n",
              "      <td>0</td>\n",
              "      <td>...</td>\n",
              "      <td>0</td>\n",
              "      <td>0</td>\n",
              "      <td>0</td>\n",
              "      <td>0</td>\n",
              "      <td>0</td>\n",
              "      <td>0</td>\n",
              "      <td>0</td>\n",
              "      <td>1</td>\n",
              "      <td>0</td>\n",
              "      <td>0</td>\n",
              "    </tr>\n",
              "    <tr>\n",
              "      <th>4</th>\n",
              "      <td>20140805</td>\n",
              "      <td>0.449648</td>\n",
              "      <td>149700.286</td>\n",
              "      <td>19942.741300</td>\n",
              "      <td>0</td>\n",
              "      <td>0</td>\n",
              "      <td>0</td>\n",
              "      <td>1</td>\n",
              "      <td>0</td>\n",
              "      <td>0</td>\n",
              "      <td>...</td>\n",
              "      <td>0</td>\n",
              "      <td>0</td>\n",
              "      <td>0</td>\n",
              "      <td>0</td>\n",
              "      <td>0</td>\n",
              "      <td>0</td>\n",
              "      <td>0</td>\n",
              "      <td>0</td>\n",
              "      <td>0</td>\n",
              "      <td>1</td>\n",
              "    </tr>\n",
              "    <tr>\n",
              "      <th>...</th>\n",
              "      <td>...</td>\n",
              "      <td>...</td>\n",
              "      <td>...</td>\n",
              "      <td>...</td>\n",
              "      <td>...</td>\n",
              "      <td>...</td>\n",
              "      <td>...</td>\n",
              "      <td>...</td>\n",
              "      <td>...</td>\n",
              "      <td>...</td>\n",
              "      <td>...</td>\n",
              "      <td>...</td>\n",
              "      <td>...</td>\n",
              "      <td>...</td>\n",
              "      <td>...</td>\n",
              "      <td>...</td>\n",
              "      <td>...</td>\n",
              "      <td>...</td>\n",
              "      <td>...</td>\n",
              "      <td>...</td>\n",
              "      <td>...</td>\n",
              "    </tr>\n",
              "    <tr>\n",
              "      <th>360</th>\n",
              "      <td>20150727</td>\n",
              "      <td>0.394510</td>\n",
              "      <td>43796.980</td>\n",
              "      <td>3487.843143</td>\n",
              "      <td>0</td>\n",
              "      <td>0</td>\n",
              "      <td>0</td>\n",
              "      <td>0</td>\n",
              "      <td>0</td>\n",
              "      <td>0</td>\n",
              "      <td>...</td>\n",
              "      <td>0</td>\n",
              "      <td>0</td>\n",
              "      <td>0</td>\n",
              "      <td>0</td>\n",
              "      <td>0</td>\n",
              "      <td>0</td>\n",
              "      <td>0</td>\n",
              "      <td>1</td>\n",
              "      <td>0</td>\n",
              "      <td>0</td>\n",
              "    </tr>\n",
              "    <tr>\n",
              "      <th>361</th>\n",
              "      <td>20150728</td>\n",
              "      <td>0.480154</td>\n",
              "      <td>71934.730</td>\n",
              "      <td>4965.290000</td>\n",
              "      <td>0</td>\n",
              "      <td>0</td>\n",
              "      <td>0</td>\n",
              "      <td>0</td>\n",
              "      <td>0</td>\n",
              "      <td>0</td>\n",
              "      <td>...</td>\n",
              "      <td>0</td>\n",
              "      <td>0</td>\n",
              "      <td>0</td>\n",
              "      <td>0</td>\n",
              "      <td>0</td>\n",
              "      <td>0</td>\n",
              "      <td>0</td>\n",
              "      <td>0</td>\n",
              "      <td>0</td>\n",
              "      <td>1</td>\n",
              "    </tr>\n",
              "    <tr>\n",
              "      <th>362</th>\n",
              "      <td>20150729</td>\n",
              "      <td>0.446441</td>\n",
              "      <td>124043.650</td>\n",
              "      <td>3477.950004</td>\n",
              "      <td>0</td>\n",
              "      <td>0</td>\n",
              "      <td>0</td>\n",
              "      <td>0</td>\n",
              "      <td>0</td>\n",
              "      <td>0</td>\n",
              "      <td>...</td>\n",
              "      <td>0</td>\n",
              "      <td>0</td>\n",
              "      <td>0</td>\n",
              "      <td>0</td>\n",
              "      <td>1</td>\n",
              "      <td>0</td>\n",
              "      <td>0</td>\n",
              "      <td>0</td>\n",
              "      <td>0</td>\n",
              "      <td>0</td>\n",
              "    </tr>\n",
              "    <tr>\n",
              "      <th>363</th>\n",
              "      <td>20150730</td>\n",
              "      <td>0.429696</td>\n",
              "      <td>47482.530</td>\n",
              "      <td>4328.840013</td>\n",
              "      <td>0</td>\n",
              "      <td>0</td>\n",
              "      <td>0</td>\n",
              "      <td>0</td>\n",
              "      <td>0</td>\n",
              "      <td>0</td>\n",
              "      <td>...</td>\n",
              "      <td>0</td>\n",
              "      <td>0</td>\n",
              "      <td>0</td>\n",
              "      <td>0</td>\n",
              "      <td>0</td>\n",
              "      <td>1</td>\n",
              "      <td>0</td>\n",
              "      <td>0</td>\n",
              "      <td>0</td>\n",
              "      <td>0</td>\n",
              "    </tr>\n",
              "    <tr>\n",
              "      <th>364</th>\n",
              "      <td>20150731</td>\n",
              "      <td>0.411759</td>\n",
              "      <td>46300.510</td>\n",
              "      <td>3378.833130</td>\n",
              "      <td>0</td>\n",
              "      <td>0</td>\n",
              "      <td>0</td>\n",
              "      <td>0</td>\n",
              "      <td>0</td>\n",
              "      <td>0</td>\n",
              "      <td>...</td>\n",
              "      <td>0</td>\n",
              "      <td>0</td>\n",
              "      <td>0</td>\n",
              "      <td>0</td>\n",
              "      <td>0</td>\n",
              "      <td>0</td>\n",
              "      <td>0</td>\n",
              "      <td>0</td>\n",
              "      <td>1</td>\n",
              "      <td>0</td>\n",
              "    </tr>\n",
              "  </tbody>\n",
              "</table>\n",
              "<p>365 rows × 25 columns</p>\n",
              "</div>"
            ],
            "text/plain": [
              "         date    margem       venda      desconto  outdesc  outmg  mes_abril  \\\n",
              "0    20140801  0.406111  110042.460   9190.907534        0      0          0   \n",
              "1    20140802  0.416022   58377.320   5713.043012        0      0          0   \n",
              "2    20140803  0.431993   64635.390   8621.708915        0      0          0   \n",
              "3    20140804  0.409216  140417.321  18312.965640        0      0          0   \n",
              "4    20140805  0.449648  149700.286  19942.741300        0      0          0   \n",
              "..        ...       ...         ...           ...      ...    ...        ...   \n",
              "360  20150727  0.394510   43796.980   3487.843143        0      0          0   \n",
              "361  20150728  0.480154   71934.730   4965.290000        0      0          0   \n",
              "362  20150729  0.446441  124043.650   3477.950004        0      0          0   \n",
              "363  20150730  0.429696   47482.530   4328.840013        0      0          0   \n",
              "364  20150731  0.411759   46300.510   3378.833130        0      0          0   \n",
              "\n",
              "     mes_agosto  mes_dezembro  mes_fevereiro  ...  mes_novembro  mes_outubro  \\\n",
              "0             1             0              0  ...             0            0   \n",
              "1             1             0              0  ...             0            0   \n",
              "2             1             0              0  ...             0            0   \n",
              "3             1             0              0  ...             0            0   \n",
              "4             1             0              0  ...             0            0   \n",
              "..          ...           ...            ...  ...           ...          ...   \n",
              "360           0             0              0  ...             0            0   \n",
              "361           0             0              0  ...             0            0   \n",
              "362           0             0              0  ...             0            0   \n",
              "363           0             0              0  ...             0            0   \n",
              "364           0             0              0  ...             0            0   \n",
              "\n",
              "     mes_setembro  weekday_domingo  weekday_quarta-feira  \\\n",
              "0               0                0                     0   \n",
              "1               0                0                     0   \n",
              "2               0                1                     0   \n",
              "3               0                0                     0   \n",
              "4               0                0                     0   \n",
              "..            ...              ...                   ...   \n",
              "360             0                0                     0   \n",
              "361             0                0                     0   \n",
              "362             0                0                     1   \n",
              "363             0                0                     0   \n",
              "364             0                0                     0   \n",
              "\n",
              "     weekday_quinta-feira  weekday_sabado  weekday_segunda-feira  \\\n",
              "0                       0               0                      0   \n",
              "1                       0               1                      0   \n",
              "2                       0               0                      0   \n",
              "3                       0               0                      1   \n",
              "4                       0               0                      0   \n",
              "..                    ...             ...                    ...   \n",
              "360                     0               0                      1   \n",
              "361                     0               0                      0   \n",
              "362                     0               0                      0   \n",
              "363                     1               0                      0   \n",
              "364                     0               0                      0   \n",
              "\n",
              "     weekday_sexta-feira  weekday_terca-feira  \n",
              "0                      1                    0  \n",
              "1                      0                    0  \n",
              "2                      0                    0  \n",
              "3                      0                    0  \n",
              "4                      0                    1  \n",
              "..                   ...                  ...  \n",
              "360                    0                    0  \n",
              "361                    0                    1  \n",
              "362                    0                    0  \n",
              "363                    0                    0  \n",
              "364                    1                    0  \n",
              "\n",
              "[365 rows x 25 columns]"
            ]
          },
          "execution_count": 10,
          "metadata": {},
          "output_type": "execute_result"
        }
      ],
      "source": [
        "# Executamos a função de criação de dummies\n",
        "create_dummies(df)"
      ]
    },
    {
      "cell_type": "code",
      "execution_count": 11,
      "metadata": {
        "colab": {
          "base_uri": "https://localhost:8080/"
        },
        "id": "d9k5GlCIKtyx",
        "outputId": "725817f0-31a2-42ae-a19e-1591c2bb2339"
      },
      "outputs": [
        {
          "data": {
            "text/plain": [
              "(365, 25)"
            ]
          },
          "execution_count": 11,
          "metadata": {},
          "output_type": "execute_result"
        }
      ],
      "source": [
        "# Verificamos o tamanho do dataset para separarmos a base de treino e teste\n",
        "df.shape"
      ]
    },
    {
      "cell_type": "code",
      "execution_count": 12,
      "metadata": {
        "id": "7N8D0h9za5eR"
      },
      "outputs": [],
      "source": [
        "# Separamos o teste em 30% do total\n",
        "treino = df.iloc[0:255]\n",
        "teste  = df.iloc[256:365]"
      ]
    },
    {
      "cell_type": "code",
      "execution_count": 13,
      "metadata": {
        "id": "hVizwSa5a5j4"
      },
      "outputs": [],
      "source": [
        "# Definimos o X e Y treino\n",
        "Y_treino = treino['venda']\n",
        "del treino['venda']\n",
        "X_treino = treino"
      ]
    },
    {
      "cell_type": "code",
      "execution_count": 14,
      "metadata": {
        "id": "tWKs67iUcV03"
      },
      "outputs": [],
      "source": [
        "# Definimos o X e Y teste\n",
        "Y_teste = teste['venda']\n",
        "del teste['venda']\n",
        "X_teste = teste"
      ]
    },
    {
      "cell_type": "markdown",
      "metadata": {
        "id": "dRXUuJNvgK4T"
      },
      "source": [
        "- Modelo 1: Utilizamos todas as colunas no modelo"
      ]
    },
    {
      "cell_type": "code",
      "execution_count": 15,
      "metadata": {
        "id": "tBqiaof0d33y"
      },
      "outputs": [],
      "source": [
        "# Executamos o modelo de Regreção linear devido ao target ser numérico\n",
        "mod = LinearRegression()\n",
        "mod = mod.fit(X_treino, Y_treino)\n",
        "Y_prev = mod.predict(X_teste)"
      ]
    },
    {
      "cell_type": "code",
      "execution_count": 16,
      "metadata": {
        "colab": {
          "base_uri": "https://localhost:8080/"
        },
        "id": "9mf-7AOxdcVW",
        "outputId": "fa78acb8-bd37-4e9c-97c2-79e0b983cc62"
      },
      "outputs": [
        {
          "name": "stdout",
          "output_type": "stream",
          "text": [
            "Erro absoluto médio: 1527674.172504711\n",
            "Erro relativo (percentual): 28.72757372845627\n"
          ]
        }
      ],
      "source": [
        "# Calculamos o erro de previsão\n",
        "erro = Y_teste - Y_prev\n",
        "\n",
        "# Calculo do erro absoluto médio\n",
        "erro_abs_medio = np.mean(abs(erro))\n",
        "print(f'Erro absoluto médio: {erro_abs_medio}')\n",
        "\n",
        "# Calculo do erro relativo (percentual)\n",
        "erro_medio_perc = erro_abs_medio/np.mean(Y_teste)\n",
        "print(f'Erro relativo (percentual): {erro_medio_perc}')"
      ]
    },
    {
      "cell_type": "code",
      "execution_count": 17,
      "metadata": {
        "colab": {
          "base_uri": "https://localhost:8080/",
          "height": 948
        },
        "id": "3sGjtnS_dcbp",
        "outputId": "89e2a808-e392-4a24-9179-351699c1156d"
      },
      "outputs": [
        {
          "data": {
            "text/html": [
              "<table class=\"simpletable\">\n",
              "<caption>OLS Regression Results</caption>\n",
              "<tr>\n",
              "  <th>Dep. Variable:</th>          <td>venda</td>      <th>  R-squared:         </th> <td>   0.853</td>\n",
              "</tr>\n",
              "<tr>\n",
              "  <th>Model:</th>                   <td>OLS</td>       <th>  Adj. R-squared:    </th> <td>   0.841</td>\n",
              "</tr>\n",
              "<tr>\n",
              "  <th>Method:</th>             <td>Least Squares</td>  <th>  F-statistic:       </th> <td>   71.75</td>\n",
              "</tr>\n",
              "<tr>\n",
              "  <th>Date:</th>             <td>Fri, 10 Jun 2022</td> <th>  Prob (F-statistic):</th> <td>1.79e-86</td>\n",
              "</tr>\n",
              "<tr>\n",
              "  <th>Time:</th>                 <td>00:30:08</td>     <th>  Log-Likelihood:    </th> <td> -2842.5</td>\n",
              "</tr>\n",
              "<tr>\n",
              "  <th>No. Observations:</th>      <td>   255</td>      <th>  AIC:               </th> <td>   5725.</td>\n",
              "</tr>\n",
              "<tr>\n",
              "  <th>Df Residuals:</th>          <td>   235</td>      <th>  BIC:               </th> <td>   5796.</td>\n",
              "</tr>\n",
              "<tr>\n",
              "  <th>Df Model:</th>              <td>    19</td>      <th>                     </th>     <td> </td>   \n",
              "</tr>\n",
              "<tr>\n",
              "  <th>Covariance Type:</th>      <td>nonrobust</td>    <th>                     </th>     <td> </td>   \n",
              "</tr>\n",
              "</table>\n",
              "<table class=\"simpletable\">\n",
              "<tr>\n",
              "            <td></td>               <th>coef</th>     <th>std err</th>      <th>t</th>      <th>P>|t|</th>  <th>[0.025</th>    <th>0.975]</th>  \n",
              "</tr>\n",
              "<tr>\n",
              "  <th>date</th>                  <td> -327.3262</td> <td>  129.850</td> <td>   -2.521</td> <td> 0.012</td> <td> -583.144</td> <td>  -71.508</td>\n",
              "</tr>\n",
              "<tr>\n",
              "  <th>margem</th>                <td>-5.479e+05</td> <td> 5.14e+04</td> <td>  -10.662</td> <td> 0.000</td> <td>-6.49e+05</td> <td>-4.47e+05</td>\n",
              "</tr>\n",
              "<tr>\n",
              "  <th>desconto</th>              <td>    7.6255</td> <td>    0.355</td> <td>   21.456</td> <td> 0.000</td> <td>    6.925</td> <td>    8.326</td>\n",
              "</tr>\n",
              "<tr>\n",
              "  <th>outdesc</th>               <td> 4.423e+04</td> <td> 1.61e+04</td> <td>    2.754</td> <td> 0.006</td> <td> 1.26e+04</td> <td> 7.59e+04</td>\n",
              "</tr>\n",
              "<tr>\n",
              "  <th>outmg</th>                 <td>-3.581e+04</td> <td> 1.35e+04</td> <td>   -2.661</td> <td> 0.008</td> <td>-6.23e+04</td> <td>-9296.180</td>\n",
              "</tr>\n",
              "<tr>\n",
              "  <th>mes_abril</th>             <td> 2.887e+09</td> <td> 1.15e+09</td> <td>    2.521</td> <td> 0.012</td> <td> 6.31e+08</td> <td> 5.14e+09</td>\n",
              "</tr>\n",
              "<tr>\n",
              "  <th>mes_agosto</th>            <td> 2.884e+09</td> <td> 1.14e+09</td> <td>    2.521</td> <td> 0.012</td> <td>  6.3e+08</td> <td> 5.14e+09</td>\n",
              "</tr>\n",
              "<tr>\n",
              "  <th>mes_dezembro</th>          <td> 2.884e+09</td> <td> 1.14e+09</td> <td>    2.521</td> <td> 0.012</td> <td>  6.3e+08</td> <td> 5.14e+09</td>\n",
              "</tr>\n",
              "<tr>\n",
              "  <th>mes_fevereiro</th>         <td> 2.887e+09</td> <td> 1.15e+09</td> <td>    2.521</td> <td> 0.012</td> <td> 6.31e+08</td> <td> 5.14e+09</td>\n",
              "</tr>\n",
              "<tr>\n",
              "  <th>mes_janeiro</th>           <td> 2.887e+09</td> <td> 1.15e+09</td> <td>    2.521</td> <td> 0.012</td> <td> 6.31e+08</td> <td> 5.14e+09</td>\n",
              "</tr>\n",
              "<tr>\n",
              "  <th>mes_julho</th>             <td>   -0.2114</td> <td>    0.084</td> <td>   -2.521</td> <td> 0.012</td> <td>   -0.377</td> <td>   -0.046</td>\n",
              "</tr>\n",
              "<tr>\n",
              "  <th>mes_junho</th>             <td>   -0.7136</td> <td>    0.283</td> <td>   -2.521</td> <td> 0.012</td> <td>   -1.271</td> <td>   -0.156</td>\n",
              "</tr>\n",
              "<tr>\n",
              "  <th>mes_maio</th>              <td>    0.5647</td> <td>    0.224</td> <td>    2.521</td> <td> 0.012</td> <td>    0.123</td> <td>    1.006</td>\n",
              "</tr>\n",
              "<tr>\n",
              "  <th>mes_mar?o</th>             <td> 2.887e+09</td> <td> 1.15e+09</td> <td>    2.521</td> <td> 0.012</td> <td> 6.31e+08</td> <td> 5.14e+09</td>\n",
              "</tr>\n",
              "<tr>\n",
              "  <th>mes_novembro</th>          <td> 2.884e+09</td> <td> 1.14e+09</td> <td>    2.521</td> <td> 0.012</td> <td>  6.3e+08</td> <td> 5.14e+09</td>\n",
              "</tr>\n",
              "<tr>\n",
              "  <th>mes_outubro</th>           <td> 2.884e+09</td> <td> 1.14e+09</td> <td>    2.521</td> <td> 0.012</td> <td>  6.3e+08</td> <td> 5.14e+09</td>\n",
              "</tr>\n",
              "<tr>\n",
              "  <th>mes_setembro</th>          <td> 2.884e+09</td> <td> 1.14e+09</td> <td>    2.521</td> <td> 0.012</td> <td>  6.3e+08</td> <td> 5.14e+09</td>\n",
              "</tr>\n",
              "<tr>\n",
              "  <th>weekday_domingo</th>       <td> 3.709e+09</td> <td> 1.47e+09</td> <td>    2.521</td> <td> 0.012</td> <td>  8.1e+08</td> <td> 6.61e+09</td>\n",
              "</tr>\n",
              "<tr>\n",
              "  <th>weekday_quarta-feira</th>  <td> 3.709e+09</td> <td> 1.47e+09</td> <td>    2.521</td> <td> 0.012</td> <td>  8.1e+08</td> <td> 6.61e+09</td>\n",
              "</tr>\n",
              "<tr>\n",
              "  <th>weekday_quinta-feira</th>  <td> 3.709e+09</td> <td> 1.47e+09</td> <td>    2.521</td> <td> 0.012</td> <td>  8.1e+08</td> <td> 6.61e+09</td>\n",
              "</tr>\n",
              "<tr>\n",
              "  <th>weekday_sabado</th>        <td> 3.709e+09</td> <td> 1.47e+09</td> <td>    2.521</td> <td> 0.012</td> <td>  8.1e+08</td> <td> 6.61e+09</td>\n",
              "</tr>\n",
              "<tr>\n",
              "  <th>weekday_segunda-feira</th> <td> 3.709e+09</td> <td> 1.47e+09</td> <td>    2.521</td> <td> 0.012</td> <td>  8.1e+08</td> <td> 6.61e+09</td>\n",
              "</tr>\n",
              "<tr>\n",
              "  <th>weekday_sexta-feira</th>   <td> 3.709e+09</td> <td> 1.47e+09</td> <td>    2.521</td> <td> 0.012</td> <td>  8.1e+08</td> <td> 6.61e+09</td>\n",
              "</tr>\n",
              "<tr>\n",
              "  <th>weekday_terca-feira</th>   <td> 3.709e+09</td> <td> 1.47e+09</td> <td>    2.521</td> <td> 0.012</td> <td>  8.1e+08</td> <td> 6.61e+09</td>\n",
              "</tr>\n",
              "</table>\n",
              "<table class=\"simpletable\">\n",
              "<tr>\n",
              "  <th>Omnibus:</th>       <td>49.756</td> <th>  Durbin-Watson:     </th> <td>   1.463</td> \n",
              "</tr>\n",
              "<tr>\n",
              "  <th>Prob(Omnibus):</th> <td> 0.000</td> <th>  Jarque-Bera (JB):  </th> <td> 646.169</td> \n",
              "</tr>\n",
              "<tr>\n",
              "  <th>Skew:</th>          <td> 0.129</td> <th>  Prob(JB):          </th> <td>4.85e-141</td>\n",
              "</tr>\n",
              "<tr>\n",
              "  <th>Kurtosis:</th>      <td>10.794</td> <th>  Cond. No.          </th> <td>2.13e+24</td> \n",
              "</tr>\n",
              "</table><br/><br/>Notes:<br/>[1] Standard Errors assume that the covariance matrix of the errors is correctly specified.<br/>[2] The smallest eigenvalue is 2.27e-32. This might indicate that there are<br/>strong multicollinearity problems or that the design matrix is singular."
            ],
            "text/plain": [
              "<class 'statsmodels.iolib.summary.Summary'>\n",
              "\"\"\"\n",
              "                            OLS Regression Results                            \n",
              "==============================================================================\n",
              "Dep. Variable:                  venda   R-squared:                       0.853\n",
              "Model:                            OLS   Adj. R-squared:                  0.841\n",
              "Method:                 Least Squares   F-statistic:                     71.75\n",
              "Date:                Fri, 10 Jun 2022   Prob (F-statistic):           1.79e-86\n",
              "Time:                        00:30:08   Log-Likelihood:                -2842.5\n",
              "No. Observations:                 255   AIC:                             5725.\n",
              "Df Residuals:                     235   BIC:                             5796.\n",
              "Df Model:                          19                                         \n",
              "Covariance Type:            nonrobust                                         \n",
              "=========================================================================================\n",
              "                            coef    std err          t      P>|t|      [0.025      0.975]\n",
              "-----------------------------------------------------------------------------------------\n",
              "date                   -327.3262    129.850     -2.521      0.012    -583.144     -71.508\n",
              "margem                -5.479e+05   5.14e+04    -10.662      0.000   -6.49e+05   -4.47e+05\n",
              "desconto                  7.6255      0.355     21.456      0.000       6.925       8.326\n",
              "outdesc                4.423e+04   1.61e+04      2.754      0.006    1.26e+04    7.59e+04\n",
              "outmg                 -3.581e+04   1.35e+04     -2.661      0.008   -6.23e+04   -9296.180\n",
              "mes_abril              2.887e+09   1.15e+09      2.521      0.012    6.31e+08    5.14e+09\n",
              "mes_agosto             2.884e+09   1.14e+09      2.521      0.012     6.3e+08    5.14e+09\n",
              "mes_dezembro           2.884e+09   1.14e+09      2.521      0.012     6.3e+08    5.14e+09\n",
              "mes_fevereiro          2.887e+09   1.15e+09      2.521      0.012    6.31e+08    5.14e+09\n",
              "mes_janeiro            2.887e+09   1.15e+09      2.521      0.012    6.31e+08    5.14e+09\n",
              "mes_julho                -0.2114      0.084     -2.521      0.012      -0.377      -0.046\n",
              "mes_junho                -0.7136      0.283     -2.521      0.012      -1.271      -0.156\n",
              "mes_maio                  0.5647      0.224      2.521      0.012       0.123       1.006\n",
              "mes_mar?o              2.887e+09   1.15e+09      2.521      0.012    6.31e+08    5.14e+09\n",
              "mes_novembro           2.884e+09   1.14e+09      2.521      0.012     6.3e+08    5.14e+09\n",
              "mes_outubro            2.884e+09   1.14e+09      2.521      0.012     6.3e+08    5.14e+09\n",
              "mes_setembro           2.884e+09   1.14e+09      2.521      0.012     6.3e+08    5.14e+09\n",
              "weekday_domingo        3.709e+09   1.47e+09      2.521      0.012     8.1e+08    6.61e+09\n",
              "weekday_quarta-feira   3.709e+09   1.47e+09      2.521      0.012     8.1e+08    6.61e+09\n",
              "weekday_quinta-feira   3.709e+09   1.47e+09      2.521      0.012     8.1e+08    6.61e+09\n",
              "weekday_sabado         3.709e+09   1.47e+09      2.521      0.012     8.1e+08    6.61e+09\n",
              "weekday_segunda-feira  3.709e+09   1.47e+09      2.521      0.012     8.1e+08    6.61e+09\n",
              "weekday_sexta-feira    3.709e+09   1.47e+09      2.521      0.012     8.1e+08    6.61e+09\n",
              "weekday_terca-feira    3.709e+09   1.47e+09      2.521      0.012     8.1e+08    6.61e+09\n",
              "==============================================================================\n",
              "Omnibus:                       49.756   Durbin-Watson:                   1.463\n",
              "Prob(Omnibus):                  0.000   Jarque-Bera (JB):              646.169\n",
              "Skew:                           0.129   Prob(JB):                    4.85e-141\n",
              "Kurtosis:                      10.794   Cond. No.                     2.13e+24\n",
              "==============================================================================\n",
              "\n",
              "Notes:\n",
              "[1] Standard Errors assume that the covariance matrix of the errors is correctly specified.\n",
              "[2] The smallest eigenvalue is 2.27e-32. This might indicate that there are\n",
              "strong multicollinearity problems or that the design matrix is singular.\n",
              "\"\"\""
            ]
          },
          "execution_count": 17,
          "metadata": {},
          "output_type": "execute_result"
        }
      ],
      "source": [
        "OLS(Y_treino, X_treino).fit().summary()"
      ]
    },
    {
      "cell_type": "markdown",
      "metadata": {
        "id": "AGJaqm5Kfha3"
      },
      "source": [
        "- Modelo 2: Utilizamos apenas as colunas  ['date', 'margem', 'desconto', 'outdesc',\t'outmg'] que são os dados numéricos do dataset"
      ]
    },
    {
      "cell_type": "code",
      "execution_count": 18,
      "metadata": {
        "id": "lN_rO0NofhiB"
      },
      "outputs": [],
      "source": [
        "# Executamos o modelo de Regreção linear devido ao target ser numérico\n",
        "mod = LinearRegression()\n",
        "mod = mod.fit(X_treino.loc[:, ['date', 'margem', 'desconto', 'outdesc',\t'outmg']], Y_treino)\n",
        "Y_prev = mod.predict(X_teste.loc[:, ['date', 'margem', 'desconto', 'outdesc',\t'outmg']])"
      ]
    },
    {
      "cell_type": "code",
      "execution_count": 19,
      "metadata": {
        "colab": {
          "base_uri": "https://localhost:8080/"
        },
        "id": "NvXTOuNUfhq-",
        "outputId": "7edfa182-fc47-4af5-f9dc-4fbc78fd0620"
      },
      "outputs": [
        {
          "name": "stdout",
          "output_type": "stream",
          "text": [
            "Erro absoluto médio: 15081.860207245138\n",
            "Erro relativo (percentual): 0.2836110335985728\n"
          ]
        }
      ],
      "source": [
        "# Calculamos o erro de previsão\n",
        "erro = Y_teste - Y_prev\n",
        "\n",
        "# Calculo do erro absoluto médio\n",
        "erro_abs_medio = np.mean(abs(erro))\n",
        "print(f'Erro absoluto médio: {erro_abs_medio}')\n",
        "# Calculo do erro relativo (percentual)\n",
        "erro_medio_perc = erro_abs_medio/np.mean(Y_teste)\n",
        "print(f'Erro relativo (percentual): {erro_medio_perc}')"
      ]
    },
    {
      "cell_type": "code",
      "execution_count": 20,
      "metadata": {
        "colab": {
          "base_uri": "https://localhost:8080/",
          "height": 546
        },
        "id": "kOr2I9erdcil",
        "outputId": "cbd0802c-e5ff-4311-df8e-b0c1d150f21e"
      },
      "outputs": [
        {
          "data": {
            "text/html": [
              "<table class=\"simpletable\">\n",
              "<caption>OLS Regression Results</caption>\n",
              "<tr>\n",
              "  <th>Dep. Variable:</th>          <td>venda</td>      <th>  R-squared (uncentered):</th>      <td>   0.956</td> \n",
              "</tr>\n",
              "<tr>\n",
              "  <th>Model:</th>                   <td>OLS</td>       <th>  Adj. R-squared (uncentered):</th> <td>   0.956</td> \n",
              "</tr>\n",
              "<tr>\n",
              "  <th>Method:</th>             <td>Least Squares</td>  <th>  F-statistic:       </th>          <td>   1098.</td> \n",
              "</tr>\n",
              "<tr>\n",
              "  <th>Date:</th>             <td>Fri, 10 Jun 2022</td> <th>  Prob (F-statistic):</th>          <td>7.22e-168</td>\n",
              "</tr>\n",
              "<tr>\n",
              "  <th>Time:</th>                 <td>00:30:10</td>     <th>  Log-Likelihood:    </th>          <td> -2902.7</td> \n",
              "</tr>\n",
              "<tr>\n",
              "  <th>No. Observations:</th>      <td>   255</td>      <th>  AIC:               </th>          <td>   5815.</td> \n",
              "</tr>\n",
              "<tr>\n",
              "  <th>Df Residuals:</th>          <td>   250</td>      <th>  BIC:               </th>          <td>   5833.</td> \n",
              "</tr>\n",
              "<tr>\n",
              "  <th>Df Model:</th>              <td>     5</td>      <th>                     </th>              <td> </td>    \n",
              "</tr>\n",
              "<tr>\n",
              "  <th>Covariance Type:</th>      <td>nonrobust</td>    <th>                     </th>              <td> </td>    \n",
              "</tr>\n",
              "</table>\n",
              "<table class=\"simpletable\">\n",
              "<tr>\n",
              "      <td></td>        <th>coef</th>     <th>std err</th>      <th>t</th>      <th>P>|t|</th>  <th>[0.025</th>    <th>0.975]</th>  \n",
              "</tr>\n",
              "<tr>\n",
              "  <th>date</th>     <td>    0.0116</td> <td>    0.001</td> <td>   14.089</td> <td> 0.000</td> <td>    0.010</td> <td>    0.013</td>\n",
              "</tr>\n",
              "<tr>\n",
              "  <th>margem</th>   <td>-5.011e+05</td> <td> 4.29e+04</td> <td>  -11.686</td> <td> 0.000</td> <td>-5.85e+05</td> <td>-4.17e+05</td>\n",
              "</tr>\n",
              "<tr>\n",
              "  <th>desconto</th> <td>    7.4043</td> <td>    0.338</td> <td>   21.936</td> <td> 0.000</td> <td>    6.740</td> <td>    8.069</td>\n",
              "</tr>\n",
              "<tr>\n",
              "  <th>outdesc</th>  <td> 5.217e+04</td> <td> 1.81e+04</td> <td>    2.875</td> <td> 0.004</td> <td> 1.64e+04</td> <td> 8.79e+04</td>\n",
              "</tr>\n",
              "<tr>\n",
              "  <th>outmg</th>    <td> -5.96e+04</td> <td> 1.58e+04</td> <td>   -3.768</td> <td> 0.000</td> <td>-9.07e+04</td> <td>-2.85e+04</td>\n",
              "</tr>\n",
              "</table>\n",
              "<table class=\"simpletable\">\n",
              "<tr>\n",
              "  <th>Omnibus:</th>       <td>27.764</td> <th>  Durbin-Watson:     </th> <td>   1.163</td>\n",
              "</tr>\n",
              "<tr>\n",
              "  <th>Prob(Omnibus):</th> <td> 0.000</td> <th>  Jarque-Bera (JB):  </th> <td> 143.034</td>\n",
              "</tr>\n",
              "<tr>\n",
              "  <th>Skew:</th>          <td> 0.004</td> <th>  Prob(JB):          </th> <td>8.72e-32</td>\n",
              "</tr>\n",
              "<tr>\n",
              "  <th>Kurtosis:</th>      <td> 6.669</td> <th>  Cond. No.          </th> <td>6.50e+08</td>\n",
              "</tr>\n",
              "</table><br/><br/>Notes:<br/>[1] R² is computed without centering (uncentered) since the model does not contain a constant.<br/>[2] Standard Errors assume that the covariance matrix of the errors is correctly specified.<br/>[3] The condition number is large, 6.5e+08. This might indicate that there are<br/>strong multicollinearity or other numerical problems."
            ],
            "text/plain": [
              "<class 'statsmodels.iolib.summary.Summary'>\n",
              "\"\"\"\n",
              "                                 OLS Regression Results                                \n",
              "=======================================================================================\n",
              "Dep. Variable:                  venda   R-squared (uncentered):                   0.956\n",
              "Model:                            OLS   Adj. R-squared (uncentered):              0.956\n",
              "Method:                 Least Squares   F-statistic:                              1098.\n",
              "Date:                Fri, 10 Jun 2022   Prob (F-statistic):                   7.22e-168\n",
              "Time:                        00:30:10   Log-Likelihood:                         -2902.7\n",
              "No. Observations:                 255   AIC:                                      5815.\n",
              "Df Residuals:                     250   BIC:                                      5833.\n",
              "Df Model:                           5                                                  \n",
              "Covariance Type:            nonrobust                                                  \n",
              "==============================================================================\n",
              "                 coef    std err          t      P>|t|      [0.025      0.975]\n",
              "------------------------------------------------------------------------------\n",
              "date           0.0116      0.001     14.089      0.000       0.010       0.013\n",
              "margem     -5.011e+05   4.29e+04    -11.686      0.000   -5.85e+05   -4.17e+05\n",
              "desconto       7.4043      0.338     21.936      0.000       6.740       8.069\n",
              "outdesc     5.217e+04   1.81e+04      2.875      0.004    1.64e+04    8.79e+04\n",
              "outmg       -5.96e+04   1.58e+04     -3.768      0.000   -9.07e+04   -2.85e+04\n",
              "==============================================================================\n",
              "Omnibus:                       27.764   Durbin-Watson:                   1.163\n",
              "Prob(Omnibus):                  0.000   Jarque-Bera (JB):              143.034\n",
              "Skew:                           0.004   Prob(JB):                     8.72e-32\n",
              "Kurtosis:                       6.669   Cond. No.                     6.50e+08\n",
              "==============================================================================\n",
              "\n",
              "Notes:\n",
              "[1] R² is computed without centering (uncentered) since the model does not contain a constant.\n",
              "[2] Standard Errors assume that the covariance matrix of the errors is correctly specified.\n",
              "[3] The condition number is large, 6.5e+08. This might indicate that there are\n",
              "strong multicollinearity or other numerical problems.\n",
              "\"\"\""
            ]
          },
          "execution_count": 20,
          "metadata": {},
          "output_type": "execute_result"
        }
      ],
      "source": [
        "OLS(Y_treino, X_treino.loc[:, ['date', 'margem', 'desconto', 'outdesc',\t'outmg']]).fit().summary()"
      ]
    },
    {
      "cell_type": "markdown",
      "metadata": {
        "id": "c11VH-arfDfW"
      },
      "source": [
        "- Modelo 3: Utilizamos apenas as colunas ['weekday_sabado', 'weekday_sexta-feira', 'weekday_domingo', 'mes_janeiro', 'mes_dezembro', 'mes_fevereiro', 'mes_julho', 'date', 'margem', 'desconto', 'outdesc',\t'outmg']. Separando as colunas em períodos que as pessoas provavelmente pedem bebidas."
      ]
    },
    {
      "cell_type": "code",
      "execution_count": 21,
      "metadata": {
        "id": "lpHsK59Pk1D8"
      },
      "outputs": [],
      "source": [
        "# Executamos o modelo de Regreção linear devido ao target ser numérico\n",
        "mod = LinearRegression()\n",
        "mod = mod.fit(X_treino.loc[:, ['weekday_sabado', 'weekday_sexta-feira', 'weekday_domingo', 'mes_janeiro', 'mes_dezembro', 'mes_fevereiro', 'mes_julho', 'date', 'margem', 'desconto', 'outdesc', 'outmg']], Y_treino)\n",
        "Y_prev = mod.predict(X_teste.loc[:, ['weekday_sabado', 'weekday_sexta-feira', 'weekday_domingo', 'mes_janeiro', 'mes_dezembro', 'mes_fevereiro', 'mes_julho', 'date', 'margem', 'desconto', 'outdesc', 'outmg']])"
      ]
    },
    {
      "cell_type": "code",
      "execution_count": 22,
      "metadata": {
        "colab": {
          "base_uri": "https://localhost:8080/"
        },
        "id": "wrQKvg55hCq6",
        "outputId": "a8dc1bf7-8f58-49bd-daba-69bb28578078"
      },
      "outputs": [
        {
          "name": "stdout",
          "output_type": "stream",
          "text": [
            "Erro absoluto médio: 14965.868811592072\n",
            "Erro relativo (percentual): 0.28142984114898995\n"
          ]
        }
      ],
      "source": [
        "# Calculamos o erro de previsão\n",
        "erro = Y_teste - Y_prev\n",
        "\n",
        "# Calculo do erro absoluto médio\n",
        "erro_abs_medio = np.mean(abs(erro))\n",
        "print(f'Erro absoluto médio: {erro_abs_medio}')\n",
        "# Calculo do erro relativo (percentual)\n",
        "erro_medio_perc = erro_abs_medio/np.mean(Y_teste)\n",
        "print(f'Erro relativo (percentual): {erro_medio_perc}')"
      ]
    },
    {
      "cell_type": "code",
      "execution_count": 23,
      "metadata": {
        "colab": {
          "base_uri": "https://localhost:8080/",
          "height": 695
        },
        "id": "gJgtuuKdhCu6",
        "outputId": "4d27775e-4b17-4116-ddd1-5a9237732e17"
      },
      "outputs": [
        {
          "data": {
            "text/html": [
              "<table class=\"simpletable\">\n",
              "<caption>OLS Regression Results</caption>\n",
              "<tr>\n",
              "  <th>Dep. Variable:</th>          <td>venda</td>      <th>  R-squared (uncentered):</th>      <td>   0.966</td> \n",
              "</tr>\n",
              "<tr>\n",
              "  <th>Model:</th>                   <td>OLS</td>       <th>  Adj. R-squared (uncentered):</th> <td>   0.964</td> \n",
              "</tr>\n",
              "<tr>\n",
              "  <th>Method:</th>             <td>Least Squares</td>  <th>  F-statistic:       </th>          <td>   629.3</td> \n",
              "</tr>\n",
              "<tr>\n",
              "  <th>Date:</th>             <td>Fri, 10 Jun 2022</td> <th>  Prob (F-statistic):</th>          <td>3.63e-172</td>\n",
              "</tr>\n",
              "<tr>\n",
              "  <th>Time:</th>                 <td>00:30:11</td>     <th>  Log-Likelihood:    </th>          <td> -2871.4</td> \n",
              "</tr>\n",
              "<tr>\n",
              "  <th>No. Observations:</th>      <td>   255</td>      <th>  AIC:               </th>          <td>   5765.</td> \n",
              "</tr>\n",
              "<tr>\n",
              "  <th>Df Residuals:</th>          <td>   244</td>      <th>  BIC:               </th>          <td>   5804.</td> \n",
              "</tr>\n",
              "<tr>\n",
              "  <th>Df Model:</th>              <td>    11</td>      <th>                     </th>              <td> </td>    \n",
              "</tr>\n",
              "<tr>\n",
              "  <th>Covariance Type:</th>      <td>nonrobust</td>    <th>                     </th>              <td> </td>    \n",
              "</tr>\n",
              "</table>\n",
              "<table class=\"simpletable\">\n",
              "<tr>\n",
              "           <td></td>              <th>coef</th>     <th>std err</th>      <th>t</th>      <th>P>|t|</th>  <th>[0.025</th>    <th>0.975]</th>  \n",
              "</tr>\n",
              "<tr>\n",
              "  <th>weekday_sabado</th>      <td>-1.812e+04</td> <td> 3718.065</td> <td>   -4.872</td> <td> 0.000</td> <td>-2.54e+04</td> <td>-1.08e+04</td>\n",
              "</tr>\n",
              "<tr>\n",
              "  <th>weekday_sexta-feira</th> <td>-5440.0877</td> <td> 3579.634</td> <td>   -1.520</td> <td> 0.130</td> <td>-1.25e+04</td> <td> 1610.840</td>\n",
              "</tr>\n",
              "<tr>\n",
              "  <th>weekday_domingo</th>     <td>-1.573e+04</td> <td> 3649.528</td> <td>   -4.310</td> <td> 0.000</td> <td>-2.29e+04</td> <td>-8541.376</td>\n",
              "</tr>\n",
              "<tr>\n",
              "  <th>mes_janeiro</th>         <td>-2642.0376</td> <td> 4176.733</td> <td>   -0.633</td> <td> 0.528</td> <td>-1.09e+04</td> <td> 5585.015</td>\n",
              "</tr>\n",
              "<tr>\n",
              "  <th>mes_dezembro</th>        <td>-2.512e+04</td> <td> 4516.060</td> <td>   -5.562</td> <td> 0.000</td> <td> -3.4e+04</td> <td>-1.62e+04</td>\n",
              "</tr>\n",
              "<tr>\n",
              "  <th>mes_fevereiro</th>       <td> -879.9262</td> <td> 4141.488</td> <td>   -0.212</td> <td> 0.832</td> <td>-9037.557</td> <td> 7277.704</td>\n",
              "</tr>\n",
              "<tr>\n",
              "  <th>mes_julho</th>           <td> 2.581e-10</td> <td> 2.01e-11</td> <td>   12.863</td> <td> 0.000</td> <td> 2.19e-10</td> <td> 2.98e-10</td>\n",
              "</tr>\n",
              "<tr>\n",
              "  <th>date</th>                <td>    0.0134</td> <td>    0.001</td> <td>   14.497</td> <td> 0.000</td> <td>    0.012</td> <td>    0.015</td>\n",
              "</tr>\n",
              "<tr>\n",
              "  <th>margem</th>              <td>-5.564e+05</td> <td> 4.63e+04</td> <td>  -12.021</td> <td> 0.000</td> <td>-6.48e+05</td> <td>-4.65e+05</td>\n",
              "</tr>\n",
              "<tr>\n",
              "  <th>desconto</th>            <td>    6.8613</td> <td>    0.324</td> <td>   21.144</td> <td> 0.000</td> <td>    6.222</td> <td>    7.500</td>\n",
              "</tr>\n",
              "<tr>\n",
              "  <th>outdesc</th>             <td> 6.097e+04</td> <td> 1.66e+04</td> <td>    3.677</td> <td> 0.000</td> <td> 2.83e+04</td> <td> 9.36e+04</td>\n",
              "</tr>\n",
              "<tr>\n",
              "  <th>outmg</th>               <td>-4.541e+04</td> <td> 1.44e+04</td> <td>   -3.149</td> <td> 0.002</td> <td>-7.38e+04</td> <td> -1.7e+04</td>\n",
              "</tr>\n",
              "</table>\n",
              "<table class=\"simpletable\">\n",
              "<tr>\n",
              "  <th>Omnibus:</th>       <td>51.015</td> <th>  Durbin-Watson:     </th> <td>   1.283</td> \n",
              "</tr>\n",
              "<tr>\n",
              "  <th>Prob(Omnibus):</th> <td> 0.000</td> <th>  Jarque-Bera (JB):  </th> <td> 728.442</td> \n",
              "</tr>\n",
              "<tr>\n",
              "  <th>Skew:</th>          <td> 0.047</td> <th>  Prob(JB):          </th> <td>6.62e-159</td>\n",
              "</tr>\n",
              "<tr>\n",
              "  <th>Kurtosis:</th>      <td>11.280</td> <th>  Cond. No.          </th> <td>1.70e+24</td> \n",
              "</tr>\n",
              "</table><br/><br/>Notes:<br/>[1] R² is computed without centering (uncentered) since the model does not contain a constant.<br/>[2] Standard Errors assume that the covariance matrix of the errors is correctly specified.<br/>[3] The smallest eigenvalue is 3.57e-32. This might indicate that there are<br/>strong multicollinearity problems or that the design matrix is singular."
            ],
            "text/plain": [
              "<class 'statsmodels.iolib.summary.Summary'>\n",
              "\"\"\"\n",
              "                                 OLS Regression Results                                \n",
              "=======================================================================================\n",
              "Dep. Variable:                  venda   R-squared (uncentered):                   0.966\n",
              "Model:                            OLS   Adj. R-squared (uncentered):              0.964\n",
              "Method:                 Least Squares   F-statistic:                              629.3\n",
              "Date:                Fri, 10 Jun 2022   Prob (F-statistic):                   3.63e-172\n",
              "Time:                        00:30:11   Log-Likelihood:                         -2871.4\n",
              "No. Observations:                 255   AIC:                                      5765.\n",
              "Df Residuals:                     244   BIC:                                      5804.\n",
              "Df Model:                          11                                                  \n",
              "Covariance Type:            nonrobust                                                  \n",
              "=======================================================================================\n",
              "                          coef    std err          t      P>|t|      [0.025      0.975]\n",
              "---------------------------------------------------------------------------------------\n",
              "weekday_sabado      -1.812e+04   3718.065     -4.872      0.000   -2.54e+04   -1.08e+04\n",
              "weekday_sexta-feira -5440.0877   3579.634     -1.520      0.130   -1.25e+04    1610.840\n",
              "weekday_domingo     -1.573e+04   3649.528     -4.310      0.000   -2.29e+04   -8541.376\n",
              "mes_janeiro         -2642.0376   4176.733     -0.633      0.528   -1.09e+04    5585.015\n",
              "mes_dezembro        -2.512e+04   4516.060     -5.562      0.000    -3.4e+04   -1.62e+04\n",
              "mes_fevereiro        -879.9262   4141.488     -0.212      0.832   -9037.557    7277.704\n",
              "mes_julho            2.581e-10   2.01e-11     12.863      0.000    2.19e-10    2.98e-10\n",
              "date                    0.0134      0.001     14.497      0.000       0.012       0.015\n",
              "margem              -5.564e+05   4.63e+04    -12.021      0.000   -6.48e+05   -4.65e+05\n",
              "desconto                6.8613      0.324     21.144      0.000       6.222       7.500\n",
              "outdesc              6.097e+04   1.66e+04      3.677      0.000    2.83e+04    9.36e+04\n",
              "outmg               -4.541e+04   1.44e+04     -3.149      0.002   -7.38e+04    -1.7e+04\n",
              "==============================================================================\n",
              "Omnibus:                       51.015   Durbin-Watson:                   1.283\n",
              "Prob(Omnibus):                  0.000   Jarque-Bera (JB):              728.442\n",
              "Skew:                           0.047   Prob(JB):                    6.62e-159\n",
              "Kurtosis:                      11.280   Cond. No.                     1.70e+24\n",
              "==============================================================================\n",
              "\n",
              "Notes:\n",
              "[1] R² is computed without centering (uncentered) since the model does not contain a constant.\n",
              "[2] Standard Errors assume that the covariance matrix of the errors is correctly specified.\n",
              "[3] The smallest eigenvalue is 3.57e-32. This might indicate that there are\n",
              "strong multicollinearity problems or that the design matrix is singular.\n",
              "\"\"\""
            ]
          },
          "execution_count": 23,
          "metadata": {},
          "output_type": "execute_result"
        }
      ],
      "source": [
        "OLS(Y_treino, X_treino.loc[:, ['weekday_sabado', 'weekday_sexta-feira', 'weekday_domingo', 'mes_janeiro', 'mes_dezembro', 'mes_fevereiro', 'mes_julho', 'date', 'margem', 'desconto', 'outdesc', 'outmg']]).fit().summary()"
      ]
    },
    {
      "cell_type": "markdown",
      "metadata": {
        "id": "rVUUGwjrhCyM"
      },
      "source": [
        "- Modelo 4: Utilizamos apenas as colunas ['weekday_sabado', 'weekday_sexta-feira', 'weekday_domingo', 'mes_dezembro', 'mes_julho', 'date', 'margem', 'desconto', 'outdesc', 'outmg'], retiramos o mês de janeiro  e fevereiro devido ao P valor mostrado anteriormente."
      ]
    },
    {
      "cell_type": "code",
      "execution_count": 24,
      "metadata": {
        "id": "ql6loaTohC1m"
      },
      "outputs": [],
      "source": [
        "# Executamos o modelo de Regreção linear devido ao target ser numérico\n",
        "mod = LinearRegression()\n",
        "mod = mod.fit(X_treino.loc[:, ['weekday_sabado', 'weekday_sexta-feira', 'weekday_domingo', 'mes_dezembro', 'mes_julho', 'date', 'margem', 'desconto', 'outdesc', 'outmg']], Y_treino)\n",
        "Y_prev = mod.predict(X_teste.loc[:, ['weekday_sabado', 'weekday_sexta-feira', 'weekday_domingo', 'mes_dezembro', 'mes_julho', 'date', 'margem', 'desconto', 'outdesc', 'outmg']])"
      ]
    },
    {
      "cell_type": "code",
      "execution_count": 25,
      "metadata": {
        "colab": {
          "base_uri": "https://localhost:8080/"
        },
        "id": "TqGKi-mihC5F",
        "outputId": "b6fdb566-10b7-4ac3-8c8e-989f94473d6a"
      },
      "outputs": [
        {
          "name": "stdout",
          "output_type": "stream",
          "text": [
            "Erro absoluto médio: 14311.507037289555\n",
            "Erro relativo (percentual): 0.26912471322662795\n"
          ]
        }
      ],
      "source": [
        "# Calculamos o erro de previsão\n",
        "erro = Y_teste - Y_prev\n",
        "\n",
        "# Calculo do erro absoluto médio\n",
        "erro_abs_medio = np.mean(abs(erro))\n",
        "print(f'Erro absoluto médio: {erro_abs_medio}')\n",
        "# Calculo do erro relativo (percentual)\n",
        "erro_medio_perc = erro_abs_medio/np.mean(Y_teste)\n",
        "print(f'Erro relativo (percentual): {erro_medio_perc}')"
      ]
    },
    {
      "cell_type": "code",
      "execution_count": 26,
      "metadata": {
        "colab": {
          "base_uri": "https://localhost:8080/",
          "height": 652
        },
        "id": "kR9dnhvshC8b",
        "outputId": "8f99d5b1-46e1-429d-9537-62a5b0469283"
      },
      "outputs": [
        {
          "data": {
            "text/html": [
              "<table class=\"simpletable\">\n",
              "<caption>OLS Regression Results</caption>\n",
              "<tr>\n",
              "  <th>Dep. Variable:</th>          <td>venda</td>      <th>  R-squared (uncentered):</th>      <td>   0.966</td> \n",
              "</tr>\n",
              "<tr>\n",
              "  <th>Model:</th>                   <td>OLS</td>       <th>  Adj. R-squared (uncentered):</th> <td>   0.965</td> \n",
              "</tr>\n",
              "<tr>\n",
              "  <th>Method:</th>             <td>Least Squares</td>  <th>  F-statistic:       </th>          <td>   774.2</td> \n",
              "</tr>\n",
              "<tr>\n",
              "  <th>Date:</th>             <td>Fri, 10 Jun 2022</td> <th>  Prob (F-statistic):</th>          <td>5.73e-175</td>\n",
              "</tr>\n",
              "<tr>\n",
              "  <th>Time:</th>                 <td>00:30:11</td>     <th>  Log-Likelihood:    </th>          <td> -2871.6</td> \n",
              "</tr>\n",
              "<tr>\n",
              "  <th>No. Observations:</th>      <td>   255</td>      <th>  AIC:               </th>          <td>   5761.</td> \n",
              "</tr>\n",
              "<tr>\n",
              "  <th>Df Residuals:</th>          <td>   246</td>      <th>  BIC:               </th>          <td>   5793.</td> \n",
              "</tr>\n",
              "<tr>\n",
              "  <th>Df Model:</th>              <td>     9</td>      <th>                     </th>              <td> </td>    \n",
              "</tr>\n",
              "<tr>\n",
              "  <th>Covariance Type:</th>      <td>nonrobust</td>    <th>                     </th>              <td> </td>    \n",
              "</tr>\n",
              "</table>\n",
              "<table class=\"simpletable\">\n",
              "<tr>\n",
              "           <td></td>              <th>coef</th>     <th>std err</th>      <th>t</th>      <th>P>|t|</th>  <th>[0.025</th>    <th>0.975]</th>  \n",
              "</tr>\n",
              "<tr>\n",
              "  <th>weekday_sabado</th>      <td> -1.82e+04</td> <td> 3699.952</td> <td>   -4.918</td> <td> 0.000</td> <td>-2.55e+04</td> <td>-1.09e+04</td>\n",
              "</tr>\n",
              "<tr>\n",
              "  <th>weekday_sexta-feira</th> <td>-5493.1089</td> <td> 3566.224</td> <td>   -1.540</td> <td> 0.125</td> <td>-1.25e+04</td> <td> 1531.118</td>\n",
              "</tr>\n",
              "<tr>\n",
              "  <th>weekday_domingo</th>     <td>-1.567e+04</td> <td> 3633.579</td> <td>   -4.313</td> <td> 0.000</td> <td>-2.28e+04</td> <td>-8516.418</td>\n",
              "</tr>\n",
              "<tr>\n",
              "  <th>mes_dezembro</th>        <td> -2.41e+04</td> <td> 4152.956</td> <td>   -5.803</td> <td> 0.000</td> <td>-3.23e+04</td> <td>-1.59e+04</td>\n",
              "</tr>\n",
              "<tr>\n",
              "  <th>mes_julho</th>           <td> 1.852e-10</td> <td> 2.03e-11</td> <td>    9.121</td> <td> 0.000</td> <td> 1.45e-10</td> <td> 2.25e-10</td>\n",
              "</tr>\n",
              "<tr>\n",
              "  <th>date</th>                <td>    0.0131</td> <td>    0.001</td> <td>   16.073</td> <td> 0.000</td> <td>    0.012</td> <td>    0.015</td>\n",
              "</tr>\n",
              "<tr>\n",
              "  <th>margem</th>              <td> -5.45e+05</td> <td> 4.24e+04</td> <td>  -12.848</td> <td> 0.000</td> <td>-6.29e+05</td> <td>-4.61e+05</td>\n",
              "</tr>\n",
              "<tr>\n",
              "  <th>desconto</th>            <td>    6.8705</td> <td>    0.319</td> <td>   21.549</td> <td> 0.000</td> <td>    6.242</td> <td>    7.498</td>\n",
              "</tr>\n",
              "<tr>\n",
              "  <th>outdesc</th>             <td> 6.136e+04</td> <td> 1.65e+04</td> <td>    3.722</td> <td> 0.000</td> <td> 2.89e+04</td> <td> 9.38e+04</td>\n",
              "</tr>\n",
              "<tr>\n",
              "  <th>outmg</th>               <td> -4.46e+04</td> <td> 1.43e+04</td> <td>   -3.116</td> <td> 0.002</td> <td>-7.28e+04</td> <td>-1.64e+04</td>\n",
              "</tr>\n",
              "</table>\n",
              "<table class=\"simpletable\">\n",
              "<tr>\n",
              "  <th>Omnibus:</th>       <td>51.670</td> <th>  Durbin-Watson:     </th> <td>   1.279</td> \n",
              "</tr>\n",
              "<tr>\n",
              "  <th>Prob(Omnibus):</th> <td> 0.000</td> <th>  Jarque-Bera (JB):  </th> <td> 758.473</td> \n",
              "</tr>\n",
              "<tr>\n",
              "  <th>Skew:</th>          <td> 0.051</td> <th>  Prob(JB):          </th> <td>1.99e-165</td>\n",
              "</tr>\n",
              "<tr>\n",
              "  <th>Kurtosis:</th>      <td>11.448</td> <th>  Cond. No.          </th> <td>9.60e+23</td> \n",
              "</tr>\n",
              "</table><br/><br/>Notes:<br/>[1] R² is computed without centering (uncentered) since the model does not contain a constant.<br/>[2] Standard Errors assume that the covariance matrix of the errors is correctly specified.<br/>[3] The smallest eigenvalue is 1.12e-31. This might indicate that there are<br/>strong multicollinearity problems or that the design matrix is singular."
            ],
            "text/plain": [
              "<class 'statsmodels.iolib.summary.Summary'>\n",
              "\"\"\"\n",
              "                                 OLS Regression Results                                \n",
              "=======================================================================================\n",
              "Dep. Variable:                  venda   R-squared (uncentered):                   0.966\n",
              "Model:                            OLS   Adj. R-squared (uncentered):              0.965\n",
              "Method:                 Least Squares   F-statistic:                              774.2\n",
              "Date:                Fri, 10 Jun 2022   Prob (F-statistic):                   5.73e-175\n",
              "Time:                        00:30:11   Log-Likelihood:                         -2871.6\n",
              "No. Observations:                 255   AIC:                                      5761.\n",
              "Df Residuals:                     246   BIC:                                      5793.\n",
              "Df Model:                           9                                                  \n",
              "Covariance Type:            nonrobust                                                  \n",
              "=======================================================================================\n",
              "                          coef    std err          t      P>|t|      [0.025      0.975]\n",
              "---------------------------------------------------------------------------------------\n",
              "weekday_sabado       -1.82e+04   3699.952     -4.918      0.000   -2.55e+04   -1.09e+04\n",
              "weekday_sexta-feira -5493.1089   3566.224     -1.540      0.125   -1.25e+04    1531.118\n",
              "weekday_domingo     -1.567e+04   3633.579     -4.313      0.000   -2.28e+04   -8516.418\n",
              "mes_dezembro         -2.41e+04   4152.956     -5.803      0.000   -3.23e+04   -1.59e+04\n",
              "mes_julho            1.852e-10   2.03e-11      9.121      0.000    1.45e-10    2.25e-10\n",
              "date                    0.0131      0.001     16.073      0.000       0.012       0.015\n",
              "margem               -5.45e+05   4.24e+04    -12.848      0.000   -6.29e+05   -4.61e+05\n",
              "desconto                6.8705      0.319     21.549      0.000       6.242       7.498\n",
              "outdesc              6.136e+04   1.65e+04      3.722      0.000    2.89e+04    9.38e+04\n",
              "outmg                -4.46e+04   1.43e+04     -3.116      0.002   -7.28e+04   -1.64e+04\n",
              "==============================================================================\n",
              "Omnibus:                       51.670   Durbin-Watson:                   1.279\n",
              "Prob(Omnibus):                  0.000   Jarque-Bera (JB):              758.473\n",
              "Skew:                           0.051   Prob(JB):                    1.99e-165\n",
              "Kurtosis:                      11.448   Cond. No.                     9.60e+23\n",
              "==============================================================================\n",
              "\n",
              "Notes:\n",
              "[1] R² is computed without centering (uncentered) since the model does not contain a constant.\n",
              "[2] Standard Errors assume that the covariance matrix of the errors is correctly specified.\n",
              "[3] The smallest eigenvalue is 1.12e-31. This might indicate that there are\n",
              "strong multicollinearity problems or that the design matrix is singular.\n",
              "\"\"\""
            ]
          },
          "execution_count": 26,
          "metadata": {},
          "output_type": "execute_result"
        }
      ],
      "source": [
        "OLS(Y_treino, X_treino.loc[:, ['weekday_sabado', 'weekday_sexta-feira', 'weekday_domingo', 'mes_dezembro', 'mes_julho', 'date', 'margem', 'desconto', 'outdesc', 'outmg']]).fit().summary()"
      ]
    },
    {
      "cell_type": "markdown",
      "metadata": {
        "id": "7C7WcFD-Kt12"
      },
      "source": [
        "# Questão 3"
      ]
    },
    {
      "cell_type": "markdown",
      "metadata": {
        "id": "Dep57CkQTpr0"
      },
      "source": [
        "1- Qual das duas matrizes de confusão apresentação a maior acurácia? (responda\n",
        "incluindo o cálculo)\n",
        "\n",
        "- Resp: As duas apresentam a mesma acurácia."
      ]
    },
    {
      "cell_type": "code",
      "execution_count": 27,
      "metadata": {
        "id": "mjq4qPPYSoeq"
      },
      "outputs": [],
      "source": [
        "def acuracia(TP, TN, FN, FP):\n",
        "  return (TP+TN)/(TP + TN + FN + FP)"
      ]
    },
    {
      "cell_type": "code",
      "execution_count": 28,
      "metadata": {
        "colab": {
          "base_uri": "https://localhost:8080/"
        },
        "id": "yzq5BbkuSoic",
        "outputId": "abcd959f-ea79-4a17-ef47-13b0a810adcb"
      },
      "outputs": [
        {
          "name": "stdout",
          "output_type": "stream",
          "text": [
            "Acurácia A: 0.8095238095238095\n"
          ]
        }
      ],
      "source": [
        "print('Acurácia A: ' + str(acuracia(TP=30, TN=140, FN=20, FP=20)))"
      ]
    },
    {
      "cell_type": "code",
      "execution_count": 29,
      "metadata": {
        "colab": {
          "base_uri": "https://localhost:8080/"
        },
        "id": "D-EIiInzSomp",
        "outputId": "a3a9347f-d5b0-44e6-a935-c487224373c3"
      },
      "outputs": [
        {
          "name": "stdout",
          "output_type": "stream",
          "text": [
            "Acurácia B: 0.8095238095238095\n"
          ]
        }
      ],
      "source": [
        "print('Acurácia B: ' + str(acuracia(TP=20, TN=150, FN=30, FP=10)))"
      ]
    },
    {
      "cell_type": "markdown",
      "metadata": {
        "id": "QlSPuUcITpyr"
      },
      "source": [
        "2- Como vocês podem interpretar o problema de negócio e descrever o que significam\n",
        "os números FN e FP, em termos de impacto no churn, tanto na Matriz A quanto na B.\n",
        "\n",
        "- Resp: O FN corresponde aos erros em que a máquina previu que o cliente não abandonou o serviço porém ele abandonou e o FP corresponde aos erros em que a máquina previu que o cliente abandonou o serviço porém ele não abandonou. Vimos que na Matriz A houve um empate de FP e FN, ou seja, a máquina errou na mesma proporção no FP e FN, já na matriz B a máquina obteve mais erros em prever o FN."
      ]
    },
    {
      "cell_type": "markdown",
      "metadata": {
        "id": "9UxwFzrYUeOm"
      },
      "source": [
        "3- Se quisermos gerar uma campanha que tenha maior impacto nos clientes que vão\n",
        "abandonar nosso e-commerce, qual dos 2 algoritmos (qual das 2 matrizes) deveríamos\n",
        "utilizar? Explique com detalhes.\n",
        "\n",
        "- Resp: Utilizariamos a matriz A devido a seu recall ter um valor maior (60%), isso mostra que 60% das previsões de saída do cliente estavam certas, enquanto na outra matriz 40% delas estavam certas."
      ]
    },
    {
      "cell_type": "markdown",
      "metadata": {
        "id": "8n5eS1DrUeS_"
      },
      "source": [
        "4- Se gerarmos uma 3a matriz de confusão, qual dos erros (FN ou FP) vocês gostariam\n",
        "que fossem menores e porque? Expliquem com argumentações do problema de churn.\n",
        "\n",
        "- Resp: Gostaríamos que o FP fosse menor, pois ele mostra quantos clientes o modelo previu que que saíram mas na verdade eles continuam na plataforma. Isso pode causar descontentamento do cliente e perda de fidelidade."
      ]
    },
    {
      "cell_type": "markdown",
      "metadata": {
        "id": "rfKOg8x_UpCv"
      },
      "source": [
        "5- Calcule a métrica de Precision (P = TP/(TP+FP)) e Recall (R= TP/(TP+FN)) e interprete\n",
        "estes % em termos do problema de negócio.\n",
        "\n",
        "- É possível perceber que a recall da matriz A obteve uma porcentagem maior, isso indica que em problemas em que é preciso ter uma maior acertividade nos clientes que sairam, utilizariamos esse modelo. Agora se for preciso um maior precision para evitar a perda de fidelidade, utilizariamos a matriz B."
      ]
    },
    {
      "cell_type": "code",
      "execution_count": 30,
      "metadata": {
        "id": "vfs-a7DKUsEp"
      },
      "outputs": [],
      "source": [
        "def precision(TP, FP):\n",
        "  return TP/(TP+FP)\n",
        "\n",
        "def recall(TP, FN):\n",
        "  return TP/(TP+FN)"
      ]
    },
    {
      "cell_type": "code",
      "execution_count": 31,
      "metadata": {
        "colab": {
          "base_uri": "https://localhost:8080/"
        },
        "id": "zAYaBLFtVHo5",
        "outputId": "d7ac7928-d8ef-46d3-aa8e-fdc6b30c05f5"
      },
      "outputs": [
        {
          "name": "stdout",
          "output_type": "stream",
          "text": [
            "Precision A: 0.6\n",
            "Recall A: 0.6\n"
          ]
        }
      ],
      "source": [
        "print('Precision A: ' + str(precision(TP=30, FP=20)))\n",
        "print('Recall A: ' + str(recall(TP=30, FN=20)))"
      ]
    },
    {
      "cell_type": "code",
      "execution_count": 32,
      "metadata": {
        "colab": {
          "base_uri": "https://localhost:8080/"
        },
        "id": "y511whZPUsI_",
        "outputId": "bbc71848-5356-4ebf-cd6c-37c56b3b26cd"
      },
      "outputs": [
        {
          "name": "stdout",
          "output_type": "stream",
          "text": [
            "Precision B: 0.6666666666666666\n",
            "Recall B: 0.4\n"
          ]
        }
      ],
      "source": [
        "print('Precision B: ' + str(precision(TP=20, FP=10)))\n",
        "print('Recall B: ' + str(recall(TP=20, FN=30)))"
      ]
    }
  ],
  "metadata": {
    "colab": {
      "name": "[ML] Global_Solution.ipynb",
      "provenance": []
    },
    "kernelspec": {
      "display_name": "Python 3.10.5 64-bit",
      "language": "python",
      "name": "python3"
    },
    "language_info": {
      "codemirror_mode": {
        "name": "ipython",
        "version": 3
      },
      "file_extension": ".py",
      "mimetype": "text/x-python",
      "name": "python",
      "nbconvert_exporter": "python",
      "pygments_lexer": "ipython3",
      "version": "3.10.5"
    },
    "vscode": {
      "interpreter": {
        "hash": "a6b599ee4def233a6923c073ca4b53b133774528c46a3a0be73f80640fc6eebd"
      }
    }
  },
  "nbformat": 4,
  "nbformat_minor": 0
}
